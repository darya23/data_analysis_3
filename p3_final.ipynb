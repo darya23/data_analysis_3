{
 "cells": [
  {
   "cell_type": "markdown",
   "metadata": {},
   "source": [
    "# Project 3: Wrangling OpenStreeMap Data with SQL"
   ]
  },
  {
   "cell_type": "markdown",
   "metadata": {},
   "source": [
    "## Auditing Data\n",
    "First I want to get a sense for what kind of tags I have in my data and the data that falls under those tags. The function count_tags(), counts the number of different values for each attribute key in the data. The group_attrib() function adds all possible data for each attribute as a set() to a dictionary of attributes. It returns the set of values for a particular field passed in as a parameter. "
   ]
  },
  {
   "cell_type": "code",
   "execution_count": 2,
   "metadata": {
    "collapsed": false
   },
   "outputs": [],
   "source": [
    "import xml.etree.cElementTree as ET\n",
    "from collections import defaultdict\n",
    "import re\n",
    "\n",
    "tree = ET.parse(\"Davis2.xml\")  #parses XML into an element tree\n",
    "root = tree.getroot()   #sets root of the tree\n",
    "\n",
    "def count_tags():\n",
    "    data_attrib_keys = defaultdict(int)\n",
    "    for elem in root.iter('tag'):\n",
    "        data_attrib_keys[elem.attrib['k']] += 1\n",
    "    return data_attrib_keys\n",
    "\n",
    "def group_attrib(field):\n",
    "    attrib_types = defaultdict(set)\n",
    "    for elem in root.iter('tag'):\n",
    "        attrib_types[elem.attrib['k']].add(elem.attrib['v'])\n",
    "    return attrib_types[field]\n",
    "\n",
    "all_tags = count_tags()"
   ]
  },
  {
   "cell_type": "markdown",
   "metadata": {},
   "source": [
    "## Phone number formatting:\n",
    "First, I am going to take a look at the phone numbers, because I suspect the format might be off. "
   ]
  },
  {
   "cell_type": "code",
   "execution_count": 178,
   "metadata": {
    "collapsed": false
   },
   "outputs": [
    {
     "data": {
      "text/plain": [
       "{'(530) 753-2040',\n",
       " '(530) 753-4900',\n",
       " '(530) 753-5007',\n",
       " '(530) 753-9664',\n",
       " '(530) 754-1111',\n",
       " '(530) 756-3540',\n",
       " '(530) 756-5212',\n",
       " '(530) 756-6440',\n",
       " '(530) 758-2251',\n",
       " '(530) 758-2855',\n",
       " '(530) 758-3223',\n",
       " '(530)747-0123',\n",
       " '(530)750-7870',\n",
       " '(530)759-8888',\n",
       " '(800)777-0133',\n",
       " '(916) 266-7660',\n",
       " '(916) 333-5710',\n",
       " '(916) 419-2116',\n",
       " '(916) 419-2606',\n",
       " '(916) 426-6008',\n",
       " '(916) 441-0011',\n",
       " '(916) 441-2242',\n",
       " '(916) 441-4407',\n",
       " '(916) 443-1711',\n",
       " '(916) 443-6905',\n",
       " '(916) 443-8741',\n",
       " '(916) 444-3286',\n",
       " '(916) 444-7187',\n",
       " '(916) 445-7387',\n",
       " '(916) 447-1855',\n",
       " '(916) 447-2453',\n",
       " '(916) 447-2891',\n",
       " '(916) 447-4745',\n",
       " '(916) 448-5841',\n",
       " '(916) 448-7545',\n",
       " '(916) 454-1350',\n",
       " '(916) 487-6772',\n",
       " '(916) 497-0888',\n",
       " '(916) 515-4899',\n",
       " '(916) 637-8970',\n",
       " '(916) 808-7000',\n",
       " '(916) 920-4680',\n",
       " '(916) 930-9586',\n",
       " '+1  530-792-7312',\n",
       " '+1 (916) 286-5800',\n",
       " '+1 (916) 442-1000',\n",
       " '+1 (916) 447-3268',\n",
       " '+1 (916) 660-2723',\n",
       " '+1 530 7927015',\n",
       " '+1 530-297-4000',\n",
       " '+1 530-297-5150',\n",
       " '+1 530-302-3485',\n",
       " '+1 530-750-7888',\n",
       " '+1 530-753-0888',\n",
       " '+1 530-753-3590',\n",
       " '+1 530-753-3999',\n",
       " '+1 530-753-5500',\n",
       " '+1 530-753-6100',\n",
       " '+1 530-753-6409',\n",
       " '+1 530-753-6690',\n",
       " '+1 530-756-1862',\n",
       " '+1 530-756-2037',\n",
       " '+1 530-756-3316',\n",
       " '+1 530-757-1113',\n",
       " '+1 530-757-2693',\n",
       " '+1 530-758-4560',\n",
       " '+1 530-758-4723',\n",
       " '+1 530-759-0661',\n",
       " '+1 530-759-0662',\n",
       " '+1 530-759-0663',\n",
       " '+1 530-792-8470',\n",
       " '+1 916 254 0355',\n",
       " '+1 916 264 2700',\n",
       " '+1 916 442 7991',\n",
       " '+1 916 443 4629',\n",
       " '+1 916 4441400',\n",
       " '+1 916 446 2440',\n",
       " '+1 916 4461481',\n",
       " '+1 916 808-5291',\n",
       " '+1 916 874 6752',\n",
       " '+1 916 877 5590',\n",
       " '+1 916-200-6265',\n",
       " '+1 916-329-8678',\n",
       " '+1 916-440-0874',\n",
       " '+1 916-441-0505',\n",
       " '+1 916-441-1905',\n",
       " '+1 916-441-6461',\n",
       " '+1 916-443-1453',\n",
       " '+1 916-443-2862',\n",
       " '+1 916-443-6761',\n",
       " '+1 916-444-1359',\n",
       " '+1 916-444-2423',\n",
       " '+1 916-444-3137',\n",
       " '+1 916-446-5905',\n",
       " '+1 916-446-6824',\n",
       " '+1 916-447-1255',\n",
       " '+1 916-447-2887',\n",
       " '+1 916-447-3404',\n",
       " '+1 916-447-4247',\n",
       " '+1 916-492-1230',\n",
       " '+1 916-498-1388',\n",
       " '+1 916-498-9224',\n",
       " '+1 916-551-1500',\n",
       " '+1 916-557-1600',\n",
       " '+1 916-706-2636',\n",
       " '+1 916-736-1947',\n",
       " '+1 916-808-7059',\n",
       " '+1-530-756-2424',\n",
       " '+1-530-758-0830',\n",
       " '+1-530-758-5050',\n",
       " '+1-530-758-8282',\n",
       " '+1-916-448-1475',\n",
       " '+1-916-642-9555',\n",
       " '1-(916) 444-6130',\n",
       " '1-530-312-8228',\n",
       " '15307534565',\n",
       " '19164485688',\n",
       " '530 756-4010',\n",
       " '530-204-5533',\n",
       " '530-231-5465',\n",
       " '530-662-2426',\n",
       " '530-662-3961',\n",
       " '530-750-5012',\n",
       " '530-753-2581',\n",
       " '530-753-3363; 916-446-4061',\n",
       " '530-756-2170',\n",
       " '530-756-5052',\n",
       " '5306668516',\n",
       " '5307500688',\n",
       " '872-222-8747',\n",
       " '8776370450',\n",
       " '916 443 0440',\n",
       " '916 476 6306',\n",
       " '916 662 7695',\n",
       " '916) 469-9574',\n",
       " '916-227-8906',\n",
       " '916-227-9800',\n",
       " '916-231-9947',\n",
       " '916-263-6951',\n",
       " '916-277-1207',\n",
       " '916-313-8400',\n",
       " '916-324-6725',\n",
       " '916-371-5415',\n",
       " '916-431-7199',\n",
       " '916-443-1993',\n",
       " '916-444-3357',\n",
       " '916-444-5701',\n",
       " '916-444-9266',\n",
       " '916-445-0181',\n",
       " '916-446-0888',\n",
       " '916-446-1223',\n",
       " '916-447-2700',\n",
       " '916-447-5956',\n",
       " '916-448-1818',\n",
       " '916-451-1691',\n",
       " '916-455-2422',\n",
       " '916-455-7155',\n",
       " '916-551-1400',\n",
       " '916-706-0898',\n",
       " '916-706-1286',\n",
       " '916-920-4451',\n",
       " '916-923-7472',\n",
       " '916.441.7373',\n",
       " '916.502.9927',\n",
       " '9163724872',\n",
       " '9164412372',\n",
       " '9164415850',\n",
       " '9164424885',\n",
       " '9164436340',\n",
       " '9169224700',\n",
       " 'Azul Mexican Food & Tequila Bar',\n",
       " 'yes'}"
      ]
     },
     "execution_count": 178,
     "metadata": {},
     "output_type": "execute_result"
    }
   ],
   "source": [
    "group_attrib('phone')"
   ]
  },
  {
   "cell_type": "markdown",
   "metadata": {},
   "source": [
    "I can see that the phone number format is not consistent, in particular the placement/use of dashes and paranthesis. Also some phone numbers include the area code 1, but most do not. I decided to go with the most frequent format, area code in paranthesis without 1 in front, first 3 digits, a dash, followed by the last 4 digits. For example a valid phone number would be (408) 987-1234. The following code updates the tree to correct format. "
   ]
  },
  {
   "cell_type": "code",
   "execution_count": 190,
   "metadata": {
    "collapsed": false
   },
   "outputs": [
    {
     "name": "stdout",
     "output_type": "stream",
     "text": [
      "() - was changed to: \n",
      "Error: () -\n",
      "() -\n",
      "yes was changed to: \n",
      "Error: yes\n",
      "yes\n"
     ]
    }
   ],
   "source": [
    "#is_incorrect_format() function checks if the phone number is in the desired, expected format\n",
    "def is_correct_format(phone):\n",
    "    if re.match(r'\\(\\d{3}\\) \\d{3}-\\d{4}', phone):\n",
    "        return True\n",
    "    else:\n",
    "        return False\n",
    "\n",
    "#edit_format() function extracts the digits from the number and appends ( and - in the correct places\n",
    "def edit_format(phone):\n",
    "    digits = filter(str.isdigit, phone).lstrip('1')\n",
    "    correct_format = '(' + digits[0:3] + ') ' + digits[3:6] + '-' + digits[6:10]\n",
    "    return correct_format\n",
    "    \n",
    "#phone_number_edit() fixes the format of incorrectly formatted phone numbers\n",
    "def phone_number_edit():\n",
    "    for elem in root.iter('tag'):\n",
    "        if (elem.attrib['k'] == \"phone\" or elem.attrib['k'] == \"contact:phone\"):\n",
    "            if not is_correct_format(elem.attrib['v']): # not correct format\n",
    "                print elem.attrib['v'] + ' was changed to: '\n",
    "                if len(filter(str.isdigit, elem.attrib['v'])) < 10 :\n",
    "                    print \"Error: \" + elem.attrib['v']\n",
    "                elif ';' in elem.attrib['v']: #this means there is more than one phone number given\n",
    "                    multiple_phones = elem.attrib['v'].split(';')\n",
    "                    correct_multiple_phones = map(edit_format, multiple_phones)\n",
    "                    elem.set(\"v\", '; '.join(correct_multiple_phones))\n",
    "                else:\n",
    "                    elem.set(\"v\", edit_format(elem.attrib['v']))    #sets the correct format\n",
    "                print elem.attrib['v']\n",
    "                        \n",
    "phone_number_edit()"
   ]
  },
  {
   "cell_type": "markdown",
   "metadata": {},
   "source": [
    "Phone numbers are fixed!"
   ]
  },
  {
   "cell_type": "markdown",
   "metadata": {},
   "source": [
    "## Address format issues:\n",
    "\n",
    "### \"addr:state\"\n",
    "Next, I am going to look at addresses, starting with state. I am going to print out the set of all possible state names in my dataset. I get:"
   ]
  },
  {
   "cell_type": "code",
   "execution_count": 181,
   "metadata": {
    "collapsed": false
   },
   "outputs": [
    {
     "name": "stdout",
     "output_type": "stream",
     "text": [
      "set(['ca', 'CA', 'California', 'Ca'])\n"
     ]
    }
   ],
   "source": [
    "print group_attrib('addr:state')"
   ]
  },
  {
   "cell_type": "markdown",
   "metadata": {},
   "source": [
    "Clearly, the state format in the address is inconsistent. I wish to find out how many addresses use each format. I create a function value_count() that creates a dictionary with the number of times each format is used."
   ]
  },
  {
   "cell_type": "code",
   "execution_count": 182,
   "metadata": {
    "collapsed": false
   },
   "outputs": [
    {
     "name": "stdout",
     "output_type": "stream",
     "text": [
      "defaultdict(<type 'int'>, {'ca': 1, 'CA': 21307, 'California': 6, 'Ca': 2})\n"
     ]
    }
   ],
   "source": [
    "def value_count(value):\n",
    "    value_count_dict = defaultdict(int)\n",
    "    for elem in root.iter('tag'):\n",
    "        if elem.attrib['k'] == value:\n",
    "            value_count_dict[elem.attrib['v']] += 1\n",
    "    print value_count_dict\n",
    "\n",
    "value_count(\"addr:state\") "
   ]
  },
  {
   "cell_type": "markdown",
   "metadata": {},
   "source": [
    "I find out that the most dominant format is simply 'CA', as I expected. Now its time to update the two records that don't match the format."
   ]
  },
  {
   "cell_type": "code",
   "execution_count": 183,
   "metadata": {
    "collapsed": false
   },
   "outputs": [
    {
     "name": "stdout",
     "output_type": "stream",
     "text": [
      "California was changed to: \n",
      "CA\n",
      "Ca was changed to: \n",
      "CA\n",
      "California was changed to: \n",
      "CA\n",
      "California was changed to: \n",
      "CA\n",
      "California was changed to: \n",
      "CA\n",
      "California was changed to: \n",
      "CA\n",
      "California was changed to: \n",
      "CA\n",
      "Ca was changed to: \n",
      "CA\n",
      "ca was changed to: \n",
      "CA\n"
     ]
    }
   ],
   "source": [
    "def state_edit():\n",
    "    for elem in root.iter('tag'):\n",
    "        if elem.attrib['k'] == \"addr:state\" and elem.attrib['v'] != \"CA\":\n",
    "            print elem.attrib['v'] + ' was changed to: '\n",
    "            elem.set(\"v\", \"CA\")\n",
    "            print elem.attrib['v']\n",
    "            \n",
    "state_edit()"
   ]
  },
  {
   "cell_type": "markdown",
   "metadata": {},
   "source": [
    "### \"addr:postcode\"\n",
    "Now, the state format is fixed! Next I look at zipcodes:"
   ]
  },
  {
   "cell_type": "code",
   "execution_count": 184,
   "metadata": {
    "collapsed": false
   },
   "outputs": [
    {
     "data": {
      "text/plain": [
       "{'85834',\n",
       " '94566',\n",
       " '95605',\n",
       " '95616',\n",
       " '95616-5270',\n",
       " '95618',\n",
       " '95673',\n",
       " '95691',\n",
       " '95695',\n",
       " '95776',\n",
       " '95811',\n",
       " '95814',\n",
       " '95815',\n",
       " '95816',\n",
       " '95817',\n",
       " '95818',\n",
       " '95819',\n",
       " '95820',\n",
       " '95821',\n",
       " '95822',\n",
       " '95831',\n",
       " '95833',\n",
       " '95834',\n",
       " '95835',\n",
       " '95837',\n",
       " '95838',\n",
       " '96516',\n",
       " '96816',\n",
       " '98584',\n",
       " 'CA 95616',\n",
       " 'CA 95819',\n",
       " 'CA 95833',\n",
       " 'CA 95834'}"
      ]
     },
     "execution_count": 184,
     "metadata": {},
     "output_type": "execute_result"
    }
   ],
   "source": [
    "group_attrib('addr:postcode')"
   ]
  },
  {
   "cell_type": "markdown",
   "metadata": {},
   "source": [
    "Again I want to look at the prevelance of each format by using my value_count() function. "
   ]
  },
  {
   "cell_type": "code",
   "execution_count": 185,
   "metadata": {
    "collapsed": false
   },
   "outputs": [
    {
     "name": "stdout",
     "output_type": "stream",
     "text": [
      "defaultdict(<type 'int'>, {'95838': 1, '95822': 5, '96816': 5, '95833': 22, '95831': 4, '95837': 2, '95834': 24, '95835': 20, '94566': 3, 'CA 95834': 2, 'CA 95819': 1, 'CA 95833': 1, '95605': 5106, '96516': 2, '95691': 14953, '95695': 10, '95821': 1, '95820': 9, '85834': 1, '95616-5270': 3, '95618': 32, '95776': 22, '98584': 1, 'CA 95616': 2, '95616': 495, '95673': 3, '95811': 31, '95814': 64, '95815': 20, '95816': 38, '95817': 22, '95818': 72, '95819': 19})\n"
     ]
    }
   ],
   "source": [
    "value_count(\"addr:postcode\")"
   ]
  },
  {
   "cell_type": "markdown",
   "metadata": {},
   "source": [
    "I can see that there are 5 instances where CA is placed in front of the postal code, which is misleading and incorrect since we have a separate attribute for \"addr:state\". I can also see that some postcodes include the 4 digit area code to be more precise. Although this creates an unnecessary distinction between '95616' and '95616-5720', I don't think it wise to remove precision, so I will not modify this. The code below removes CA from some area codes:"
   ]
  },
  {
   "cell_type": "code",
   "execution_count": 186,
   "metadata": {
    "collapsed": false
   },
   "outputs": [
    {
     "name": "stdout",
     "output_type": "stream",
     "text": [
      "CA 95819 was changed to: \n",
      "95819\n",
      "CA 95834 was changed to: \n",
      "95834\n",
      "CA 95834 was changed to: \n",
      "95834\n",
      "CA 95616 was changed to: \n",
      "95616\n",
      "CA 95833 was changed to: \n",
      "95833\n",
      "CA 95616 was changed to: \n",
      "95616\n"
     ]
    }
   ],
   "source": [
    "def correct_postalcode(code):\n",
    "    return re.match(r'\\d{5}',code) or re.match(r'\\d{5}-\\d{4}',code)\n",
    "\n",
    "def edit_postcode():\n",
    "    for elem in root.iter('tag'):\n",
    "        if elem.attrib['k'] == \"addr:postcode\" and not correct_postalcode(elem.attrib['v']):\n",
    "            digits = filter(str.isdigit, elem.attrib['v'])\n",
    "            print elem.attrib['v'] + ' was changed to: '\n",
    "            if len(digits) > 5:\n",
    "                elem.set(\"v\", digits[:6] + '-' + digits[6:])\n",
    "            else:\n",
    "                elem.set(\"v\", digits)\n",
    "            print elem.attrib['v']\n",
    "            #if there is no state, add a state attribute (?)\n",
    "            \n",
    "edit_postcode()  "
   ]
  },
  {
   "cell_type": "markdown",
   "metadata": {},
   "source": [
    "There are a few further issues I discovered while quering my data further in the project. I come back here to clean them up. \n",
    "\n",
    "### Coffee Shop name format clean\n",
    "Starbucks coffee shop is labeled as \"Starbucks\" and \"Starbucks Coffee\", which is inconsistent. Similarly there are two versions for Peet's Coffee shop - \"Peet's Coffee & Tea\" and \"Peets Coffee and Tea\""
   ]
  },
  {
   "cell_type": "code",
   "execution_count": 192,
   "metadata": {
    "collapsed": false
   },
   "outputs": [],
   "source": [
    "def edit_coffee_shop():\n",
    "    for element in root.iter('tag'):\n",
    "        if element.attrib['k'] == 'name' and 'Starbucks' in element.attrib['v']:\n",
    "            if element.attrib['v'] != 'Starbucks':\n",
    "                print element.attrib['v'] + ' was changed to: '\n",
    "                element.set('v', 'Starbucks')\n",
    "                print element.attrib['v']\n",
    "        elif element.attrib['k'] == 'name' and ('Peet' in element.attrib['v'] and 'Coffee' in element.attrib['v']):\n",
    "            if element.attrib['v'] != \"Peet's Coffee & Tea\":\n",
    "                print element.attrib['v'] + ' was changed to: '\n",
    "                element.set('v', \"Peet's Coffee & Tea\")\n",
    "                print element.attrib['v']\n",
    "\n",
    "edit_coffee_shop()"
   ]
  },
  {
   "cell_type": "markdown",
   "metadata": {},
   "source": [
    "Now its time to write the final updated tree to a new XML file."
   ]
  },
  {
   "cell_type": "code",
   "execution_count": 166,
   "metadata": {
    "collapsed": false
   },
   "outputs": [],
   "source": [
    "tree.write(\"Davis_updated.xml\")"
   ]
  },
  {
   "cell_type": "markdown",
   "metadata": {
    "collapsed": false
   },
   "source": [
    "# Converting XML $\\rightarrow$ CSV $\\rightarrow$ Database\n",
    "I will use the provided code along with my own shape_element() function to convert XML to CSV."
   ]
  },
  {
   "cell_type": "code",
   "execution_count": 167,
   "metadata": {
    "collapsed": false
   },
   "outputs": [],
   "source": [
    "import csv\n",
    "import codecs\n",
    "import pprint\n",
    "import re\n",
    "import xml.etree.cElementTree as ET\n",
    "import cerberus\n",
    "import schema\n",
    "\n",
    "OSM_PATH = \"Davis_updated.xml\"\n",
    "NODES_PATH = \"nodes.csv\"\n",
    "NODE_TAGS_PATH = \"nodes_tags.csv\"\n",
    "WAYS_PATH = \"ways.csv\"\n",
    "WAY_NODES_PATH = \"ways_nodes.csv\"\n",
    "WAY_TAGS_PATH = \"ways_tags.csv\"\n",
    "LOWER_COLON = re.compile(r'^([a-z]|_)+:([a-z]|_)+')\n",
    "PROBLEMCHARS = re.compile(r'[=\\+/&<>;\\'\"\\?%#$@\\,\\. \\t\\r\\n]')\n",
    "SCHEMA = schema.schema\n",
    "NODE_FIELDS = ['id', 'lat', 'lon', 'user', 'uid', 'version', 'changeset', 'timestamp']\n",
    "NODE_TAGS_FIELDS = ['id', 'key', 'value', 'type']\n",
    "WAY_FIELDS = ['id', 'user', 'uid', 'version', 'changeset', 'timestamp']\n",
    "WAY_TAGS_FIELDS = ['id', 'key', 'value', 'type']\n",
    "WAY_NODES_FIELDS = ['id', 'node_id', 'position']\n",
    "\n",
    "def shape_element(element, node_attr_fields=NODE_FIELDS, way_attr_fields=WAY_FIELDS,\n",
    "                  problem_chars=PROBLEMCHARS, default_tag_type='regular'):\n",
    "    \"\"\"Clean and shape node or way XML element to Python dict\"\"\"\n",
    "\n",
    "    node_attribs = {}\n",
    "    way_attribs = {}\n",
    "    way_nodes = []\n",
    "    tags = []  # Handle secondary tags the same way for both node and way elements\n",
    "\n",
    "    if element.tag == 'node':\n",
    "        node_attribs = element.attrib\n",
    "        if 'visible' in node_attribs.keys():\n",
    "            del node_attribs['visible']\n",
    "    elif element.tag == 'way':\n",
    "        way_attribs = element.attrib\n",
    "        if 'visible' in way_attribs.keys():\n",
    "            del way_attribs['visible']\n",
    "        \n",
    "    i = 0\n",
    "    for a in element.iter('nd'):\n",
    "        temp_dict = {}\n",
    "        temp_dict['id'] = way_attribs['id']\n",
    "        temp_dict['node_id'] = a.attrib['ref']\n",
    "        temp_dict['position'] = i\n",
    "        way_nodes.append(temp_dict)\n",
    "        i+=1\n",
    "\n",
    "    for a in element.iter('tag'):\n",
    "        temp_dict = {}\n",
    "        temp_dict['id'] = element.attrib['id']\n",
    "        temp_dict['value'] = a.attrib['v']\n",
    "        if ':' in a.attrib['k']:\n",
    "            colon = a.attrib['k'].index(':')\n",
    "            temp_dict['type'] = a.attrib['k'][:colon]\n",
    "            temp_dict['key'] = a.attrib['k'][colon+1:]\n",
    "        else:\n",
    "            temp_dict['type'] = 'regular'\n",
    "            temp_dict['key'] = a.attrib['k']               \n",
    "        tags.append(temp_dict)\n",
    "    \n",
    "    if element.tag == 'node':\n",
    "        return {'node': node_attribs, 'node_tags': tags}\n",
    "    elif element.tag == 'way':\n",
    "        return {'way': way_attribs, 'way_nodes': way_nodes, 'way_tags': tags}\n",
    "\n",
    "# ================================================== #\n",
    "#               Helper Functions                     #\n",
    "# ================================================== #\n",
    "def get_element(osm_file, tags=('node', 'way', 'relation')):\n",
    "    \"\"\"Yield element if it is the right type of tag\"\"\"\n",
    "\n",
    "    context = ET.iterparse(osm_file, events=('start', 'end'))\n",
    "    _, root = next(context)\n",
    "    for event, elem in context:\n",
    "        if event == 'end' and elem.tag in tags:\n",
    "            yield elem\n",
    "            root.clear()\n",
    "\n",
    "\n",
    "def validate_element(element, validator, schema=SCHEMA):\n",
    "    \"\"\"Raise ValidationError if element does not match schema\"\"\"\n",
    "    if validator.validate(element, schema) is not True:\n",
    "        field, errors = next(validator.errors.iteritems())\n",
    "        message_string = \"\\nElement of type '{0}' has the following errors:\\n{1}\"\n",
    "        error_string = pprint.pformat(errors)\n",
    "        \n",
    "        raise Exception(message_string.format(field, error_string))\n",
    "\n",
    "\n",
    "class UnicodeDictWriter(csv.DictWriter, object):\n",
    "    \"\"\"Extend csv.DictWriter to handle Unicode input\"\"\"\n",
    "\n",
    "    def writerow(self, row):\n",
    "        super(UnicodeDictWriter, self).writerow({\n",
    "            k: (v.encode('utf-8') if isinstance(v, unicode) else v) for k, v in row.iteritems()\n",
    "        })\n",
    "\n",
    "    def writerows(self, rows):\n",
    "        for row in rows:\n",
    "            self.writerow(row)\n",
    "\n",
    "\n",
    "# ================================================== #\n",
    "#               Main Function                        #\n",
    "# ================================================== #\n",
    "def process_map(file_in, validate):\n",
    "    \"\"\"Iteratively process each XML element and write to csv(s)\"\"\"\n",
    "\n",
    "    with codecs.open(NODES_PATH, 'w') as nodes_file, \\\n",
    "         codecs.open(NODE_TAGS_PATH, 'w') as nodes_tags_file, \\\n",
    "         codecs.open(WAYS_PATH, 'w') as ways_file, \\\n",
    "         codecs.open(WAY_NODES_PATH, 'w') as way_nodes_file, \\\n",
    "         codecs.open(WAY_TAGS_PATH, 'w') as way_tags_file:\n",
    "\n",
    "        nodes_writer = UnicodeDictWriter(nodes_file, NODE_FIELDS)\n",
    "        node_tags_writer = UnicodeDictWriter(nodes_tags_file, NODE_TAGS_FIELDS)\n",
    "        ways_writer = UnicodeDictWriter(ways_file, WAY_FIELDS)\n",
    "        way_nodes_writer = UnicodeDictWriter(way_nodes_file, WAY_NODES_FIELDS)\n",
    "        way_tags_writer = UnicodeDictWriter(way_tags_file, WAY_TAGS_FIELDS)\n",
    "\n",
    "        nodes_writer.writeheader()\n",
    "        node_tags_writer.writeheader()\n",
    "        ways_writer.writeheader()\n",
    "        way_nodes_writer.writeheader()\n",
    "        way_tags_writer.writeheader()\n",
    "\n",
    "        validator = cerberus.Validator()\n",
    "\n",
    "        for element in get_element(file_in, tags=('node', 'way')):\n",
    "            el = shape_element(element)\n",
    "            if el:\n",
    "                if validate is True:\n",
    "                    validate_element(el, validator)\n",
    "\n",
    "                if element.tag == 'node':\n",
    "                    nodes_writer.writerow(el['node'])\n",
    "                    node_tags_writer.writerows(el['node_tags'])\n",
    "                elif element.tag == 'way':\n",
    "                    ways_writer.writerow(el['way'])\n",
    "                    way_nodes_writer.writerows(el['way_nodes'])\n",
    "                    way_tags_writer.writerows(el['way_tags'])\n",
    "\n",
    "\n",
    "if __name__ == '__main__':\n",
    "    # Note: Validation is ~ 10X slower. For the project consider using a small\n",
    "    # sample of the map when validating.\n",
    "    process_map(OSM_PATH, validate=False)"
   ]
  },
  {
   "cell_type": "markdown",
   "metadata": {},
   "source": [
    "Now all the data from the XML file is in .csv format. Next I used my terminal to create a database file - davis.db from the .csv files. Now it's time to query the database!"
   ]
  },
  {
   "cell_type": "markdown",
   "metadata": {},
   "source": [
    "# Querring Data"
   ]
  },
  {
   "cell_type": "markdown",
   "metadata": {},
   "source": [
    "Now I am going to first create a function that will display my query results in nice tables. I will use Python's prettytable library."
   ]
  },
  {
   "cell_type": "code",
   "execution_count": 168,
   "metadata": {
    "collapsed": false
   },
   "outputs": [],
   "source": [
    "import prettytable\n",
    "\n",
    "def print_pretty_table(headings_list, rows):\n",
    "    table = prettytable.PrettyTable(headings_list)\n",
    "    for row in rows:\n",
    "        table.add_row(row)\n",
    "    print table"
   ]
  },
  {
   "cell_type": "markdown",
   "metadata": {},
   "source": [
    "## Amenities\n",
    "In my first query I will count the number of different types of amenities in the area."
   ]
  },
  {
   "cell_type": "code",
   "execution_count": null,
   "metadata": {
    "collapsed": true
   },
   "outputs": [],
   "source": [
    "import sqlite3\n",
    "import pandas as pd\n",
    "import seaborn as sns\n",
    "import matplotlib.pyplot as plt\n",
    "\n",
    "db = sqlite3.connect(\"davis.db\")\n",
    "c = db.cursor()\n",
    "\n",
    "def my_query(query, heading):\n",
    "    c.execute(query)\n",
    "    rows = c.fetchall()\n",
    "    print_pretty_table(heading, rows)\n",
    "    my_df = pd.DataFrame(rows)\n",
    "    my_df.columns = heading\n",
    "    return my_df"
   ]
  },
  {
   "cell_type": "code",
   "execution_count": 170,
   "metadata": {
    "collapsed": false
   },
   "outputs": [
    {
     "name": "stdout",
     "output_type": "stream",
     "text": [
      "+------------------------+-------+\n",
      "|         value          | count |\n",
      "+------------------------+-------+\n",
      "|       restaurant       |   63  |\n",
      "|          cafe          |   46  |\n",
      "|       fast_food        |   38  |\n",
      "|        toilets         |   30  |\n",
      "|         school         |   23  |\n",
      "|          fuel          |   21  |\n",
      "|         bench          |   19  |\n",
      "|        parking         |   19  |\n",
      "|     drinking_water     |   16  |\n",
      "|    place_of_worship    |   16  |\n",
      "|     waste_disposal     |   11  |\n",
      "| bicycle_repair_station |   9   |\n",
      "|          atm           |   8   |\n",
      "|       car_rental       |   6   |\n",
      "|          pub           |   6   |\n",
      "|    vending_machine     |   6   |\n",
      "|          bank          |   5   |\n",
      "|          bbq           |   5   |\n",
      "|    bicycle_parking     |   5   |\n",
      "|      fire_station      |   5   |\n",
      "|        fountain        |   5   |\n",
      "|        post_box        |   5   |\n",
      "|          bar           |   4   |\n",
      "|      bus_station       |   3   |\n",
      "|        car_wash        |   3   |\n",
      "|         cinema         |   3   |\n",
      "|        pharmacy        |   3   |\n",
      "|      post_office       |   3   |\n",
      "|      car_sharing       |   2   |\n",
      "|        college         |   2   |\n",
      "|    emergency_phone     |   2   |\n",
      "|        hospital        |   2   |\n",
      "|         police         |   2   |\n",
      "|          taxi          |   2   |\n",
      "|    charging_station    |   1   |\n",
      "|         clock          |   1   |\n",
      "|       courthouse       |   1   |\n",
      "|        dentist         |   1   |\n",
      "|        library         |   1   |\n",
      "|      picnic_table      |   1   |\n",
      "|         prison         |   1   |\n",
      "|       recycling        |   1   |\n",
      "|        shelter         |   1   |\n",
      "|        theatre         |   1   |\n",
      "|        townhall        |   1   |\n",
      "|       veterinary       |   1   |\n",
      "+------------------------+-------+\n"
     ]
    }
   ],
   "source": [
    "QUERY = \"SELECT value, COUNT(*) as count FROM node_tags WHERE key == 'amenity' GROUP BY value ORDER BY count DESC\"\n",
    "amenity_count_df = my_query(QUERY, [\"value\", \"count\"])"
   ]
  },
  {
   "cell_type": "code",
   "execution_count": 171,
   "metadata": {
    "collapsed": false
   },
   "outputs": [
    {
     "data": {
      "text/plain": [
       "<matplotlib.axes._subplots.AxesSubplot at 0x127b8b610>"
      ]
     },
     "execution_count": 171,
     "metadata": {},
     "output_type": "execute_result"
    },
    {
     "data": {
      "image/png": "[encoded data removed]",
      "text/plain": [
       "<matplotlib.figure.Figure at 0x14c5ce2d0>"
      ]
     },
     "metadata": {},
     "output_type": "display_data"
    }
   ],
   "source": [
    "%matplotlib inline\n",
    "plt.rcParams[\"figure.figsize\"] = [12,9]\n",
    "sns.barplot(y=\"value\", x=\"count\", data=amenity_count_df, orient='h')"
   ]
  },
  {
   "cell_type": "markdown",
   "metadata": {},
   "source": [
    "I can see that restuarants and cafes are most prominent in the area."
   ]
  },
  {
   "cell_type": "markdown",
   "metadata": {},
   "source": [
    "# What is the most prominent cuisine?"
   ]
  },
  {
   "cell_type": "code",
   "execution_count": 172,
   "metadata": {
    "collapsed": false
   },
   "outputs": [
    {
     "name": "stdout",
     "output_type": "stream",
     "text": [
      "+-------------------+-------+\n",
      "|      Cuisine      | count |\n",
      "+-------------------+-------+\n",
      "|      mexican      |   9   |\n",
      "|       pizza       |   4   |\n",
      "|        thai       |   3   |\n",
      "|       asian       |   2   |\n",
      "|       burger      |   2   |\n",
      "|      chinese      |   2   |\n",
      "|      japanese     |   2   |\n",
      "|      american     |   1   |\n",
      "| chinese dumplings |   1   |\n",
      "|       indian      |   1   |\n",
      "|   organic;local   |   1   |\n",
      "|      regional     |   1   |\n",
      "|      sandwich     |   1   |\n",
      "|       sushi       |   1   |\n",
      "+-------------------+-------+\n"
     ]
    }
   ],
   "source": [
    "SUBQUERY = \"(SELECT id FROM node_tags WHERE value == 'restaurant')\"\n",
    "QUERY = \"SELECT value, COUNT(*) as count FROM node_tags WHERE key == 'cuisine' and id IN\" + SUBQUERY + \"GROUP BY value ORDER BY count DESC\"\n",
    "\n",
    "cuisine_count_df = my_query(QUERY, [\"Cuisine\", \"count\"])"
   ]
  },
  {
   "cell_type": "code",
   "execution_count": 173,
   "metadata": {
    "collapsed": false
   },
   "outputs": [
    {
     "data": {
      "text/plain": [
       "<matplotlib.axes._subplots.AxesSubplot at 0x12fb55e10>"
      ]
     },
     "execution_count": 173,
     "metadata": {},
     "output_type": "execute_result"
    },
    {
     "data": {
      "image/png": "[encoded data removed]",
      "text/plain": [
       "<matplotlib.figure.Figure at 0x127b8b0d0>"
      ]
     },
     "metadata": {},
     "output_type": "display_data"
    }
   ],
   "source": [
    "sns.barplot(y=\"Cuisine\", x=\"count\", data=cuisine_count_df, orient='h')"
   ]
  },
  {
   "cell_type": "markdown",
   "metadata": {},
   "source": [
    "Out of mere curiousity, I decide to print the names of the Mexican restaurants in the area."
   ]
  },
  {
   "cell_type": "code",
   "execution_count": 174,
   "metadata": {
    "collapsed": false
   },
   "outputs": [
    {
     "name": "stdout",
     "output_type": "stream",
     "text": [
      "+-----------------------------+\n",
      "| Mexican Restaurants by Name |\n",
      "+-----------------------------+\n",
      "|     Taqueria Guadalajara    |\n",
      "|     Taqueria El Burrito     |\n",
      "|        Taqueria Davis       |\n",
      "|     La Taqueria Cantina     |\n",
      "|    La Islites Ostioneria    |\n",
      "|        El Toro Bravo        |\n",
      "|          El Pation          |\n",
      "|         Dos Coyotes         |\n",
      "|    Chipotle Mexican Grill   |\n",
      "+-----------------------------+\n"
     ]
    }
   ],
   "source": [
    "SUBQUERY = \"(SELECT id FROM node_tags WHERE key = 'cuisine' and value == 'mexican')\"\n",
    "QUERY = \"SELECT value as count FROM node_tags WHERE key == 'name' and id IN\" + SUBQUERY + \"GROUP BY value ORDER BY count DESC\"\n",
    "\n",
    "mexican_resturants_df = my_query(QUERY, [\"Mexican Restaurants by Name\"])"
   ]
  },
  {
   "cell_type": "markdown",
   "metadata": {},
   "source": [
    "# How many Starbucks are here?\n",
    "As a fun query, I'd like to see how many starbucks there are in the area."
   ]
  },
  {
   "cell_type": "code",
   "execution_count": 176,
   "metadata": {
    "collapsed": false
   },
   "outputs": [
    {
     "name": "stdout",
     "output_type": "stream",
     "text": [
      "+------------------------------+-------+\n",
      "|       Coffee Shop Name       | count |\n",
      "+------------------------------+-------+\n",
      "|          Starbucks           |   5   |\n",
      "|       Starbucks Coffee       |   3   |\n",
      "|    Peet's Coffee and Tea     |   2   |\n",
      "|      Peets Coffee & Tea      |   2   |\n",
      "|      Barista Brew Cafe       |   1   |\n",
      "|           Bio Brew           |   1   |\n",
      "|         Cargo Coffee         |   1   |\n",
      "|      Cloud Forest Cafe       |   1   |\n",
      "|        Common Grounds        |   1   |\n",
      "|    Common Grounds Coffee     |   1   |\n",
      "|         Mocha Joe's          |   1   |\n",
      "| Pachamama Coffee Cooperative |   1   |\n",
      "|        Sodexho Coffee        |   1   |\n",
      "+------------------------------+-------+\n"
     ]
    }
   ],
   "source": [
    "SUBQUERY = \"(SELECT id FROM node_tags WHERE key = 'cuisine' and value == 'coffee_shop')\"\n",
    "QUERY = \"SELECT value, COUNT(*) as count FROM node_tags WHERE key == 'name' and id IN\" + SUBQUERY + \"GROUP BY value ORDER BY count DESC\"\n",
    "\n",
    "coffee_shop_df = my_query(QUERY, [\"Coffee Shop Name\", \"count\"])"
   ]
  },
  {
   "cell_type": "markdown",
   "metadata": {},
   "source": [
    "Hence, there are 5 Starbucks coffee shops in the area. "
   ]
  },
  {
   "cell_type": "code",
   "execution_count": null,
   "metadata": {
    "collapsed": true
   },
   "outputs": [],
   "source": []
  }
 ],
 "metadata": {
  "anaconda-cloud": {},
  "kernelspec": {
   "display_name": "Python [Root]",
   "language": "python",
   "name": "Python [Root]"
  },
  "language_info": {
   "codemirror_mode": {
    "name": "ipython",
    "version": 2
   },
   "file_extension": ".py",
   "mimetype": "text/x-python",
   "name": "python",
   "nbconvert_exporter": "python",
   "pygments_lexer": "ipython2",
   "version": "2.7.12"
  }
 },
 "nbformat": 4,
 "nbformat_minor": 0
}
